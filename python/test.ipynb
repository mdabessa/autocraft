{
 "cells": [
  {
   "cell_type": "code",
   "execution_count": 12,
   "metadata": {},
   "outputs": [],
   "source": [
    "import json\n",
    "from collections import OrderedDict\n",
    "from typing import Callable\n",
    "from pprint import pprint"
   ]
  },
  {
   "cell_type": "code",
   "execution_count": 13,
   "metadata": {},
   "outputs": [],
   "source": [
    "class DefaultOrderedDict(OrderedDict):\n",
    "    # Source: http://stackoverflow.com/a/6190500/562769\n",
    "    def __init__(self, default_factory=None, *a, **kw):\n",
    "        if (default_factory is not None and\n",
    "           not isinstance(default_factory, Callable)):\n",
    "            raise TypeError('first argument must be callable')\n",
    "        OrderedDict.__init__(self, *a, **kw)\n",
    "        self.default_factory = default_factory\n",
    "\n",
    "    def __getitem__(self, key):\n",
    "        try:\n",
    "            return OrderedDict.__getitem__(self, key)\n",
    "        except KeyError:\n",
    "            return self.__missing__(key)\n",
    "\n",
    "    def __missing__(self, key):\n",
    "        if self.default_factory is None:\n",
    "            raise KeyError(key)\n",
    "        self[key] = value = self.default_factory()\n",
    "        return value\n",
    "\n",
    "    def __reduce__(self):\n",
    "        if self.default_factory is None:\n",
    "            args = tuple()\n",
    "        else:\n",
    "            args = self.default_factory,\n",
    "        return type(self), args, None, None, self.items()\n",
    "\n",
    "    def copy(self):\n",
    "        return self.__copy__()\n",
    "\n",
    "    def __copy__(self):\n",
    "        return type(self)(self.default_factory, self)\n",
    "\n",
    "    def __deepcopy__(self, memo):\n",
    "        import copy\n",
    "        return type(self)(self.default_factory,\n",
    "                          copy.deepcopy(self.items()))\n",
    "\n",
    "    def __repr__(self):\n",
    "        return 'OrderedDefaultDict(%s, %s)' % (self.default_factory,\n",
    "                                               OrderedDict.__repr__(self))"
   ]
  },
  {
   "cell_type": "code",
   "execution_count": 14,
   "metadata": {},
   "outputs": [],
   "source": [
    "with open('./test.json', 'r') as f:\n",
    "    data = json.load(f)"
   ]
  },
  {
   "cell_type": "code",
   "execution_count": 15,
   "metadata": {},
   "outputs": [
    {
     "data": {
      "text/plain": [
       "20"
      ]
     },
     "execution_count": 15,
     "metadata": {},
     "output_type": "execute_result"
    }
   ],
   "source": [
    "len(data['tests'])"
   ]
  },
  {
   "cell_type": "code",
   "execution_count": 16,
   "metadata": {},
   "outputs": [
    {
     "name": "stdout",
     "output_type": "stream",
     "text": [
      "['endPos',\n",
      " 'log',\n",
      " 'timeStart',\n",
      " 'biome',\n",
      " 'traceback',\n",
      " 'status',\n",
      " 'timeTaken',\n",
      " 'error',\n",
      " 'startPos',\n",
      " 'world',\n",
      " 'timeEnd']\n"
     ]
    }
   ],
   "source": [
    "pprint(list(data['tests'][0].keys()))"
   ]
  },
  {
   "cell_type": "code",
   "execution_count": 17,
   "metadata": {},
   "outputs": [
    {
     "name": "stdout",
     "output_type": "stream",
     "text": [
      "Sucesses: 5/20 (25.00%)\n",
      "{'No crafting table found': 3,\n",
      " 'Timeout': 1,\n",
      " 'Walk: Cannot find a valid path to the objective': 1,\n",
      " 'Walk: Cannot follow the path of the pathfinder': 10}\n",
      "{'Beach': 1,\n",
      " 'Deep Ocean': 3,\n",
      " 'Extreme Hills': 1,\n",
      " 'Ocean': 1,\n",
      " 'Plains': 4,\n",
      " 'River': 2,\n",
      " 'Savanna': 1,\n",
      " 'Swampland': 2}\n"
     ]
    }
   ],
   "source": [
    "total = len(data['tests'])\n",
    "sucesses = 0\n",
    "\n",
    "errors = DefaultOrderedDict(int)\n",
    "erro_biome = DefaultOrderedDict(int)\n",
    "times = []\n",
    "for i in data['tests']:\n",
    "    if i['status'] == True:\n",
    "        sucesses += 1\n",
    "        times.append(i['timeTaken'])\n",
    "    else:\n",
    "        errors[i['error']] += 1\n",
    "        erro_biome[i['biome']] += 1\n",
    "\n",
    "print(f'Sucesses: {sucesses}/{total} ({((sucesses/total)*100):.2f}%)')\n",
    "pprint(dict(errors))\n",
    "pprint(dict(erro_biome))"
   ]
  },
  {
   "cell_type": "code",
   "execution_count": 21,
   "metadata": {},
   "outputs": [
    {
     "name": "stdout",
     "output_type": "stream",
     "text": [
      "103.093\n",
      "129.0586\n",
      "154.535\n"
     ]
    }
   ],
   "source": [
    "print(min(times))\n",
    "print(sum(times)/len(times))\n",
    "print(max(times))"
   ]
  },
  {
   "cell_type": "code",
   "execution_count": 19,
   "metadata": {},
   "outputs": [],
   "source": [
    "e = [d for d in data['tests'] if d['status'] == False][0]"
   ]
  },
  {
   "cell_type": "code",
   "execution_count": 20,
   "metadata": {},
   "outputs": [
    {
     "name": "stdout",
     "output_type": "stream",
     "text": [
      "Walk: Cannot follow the path of the pathfinder\n",
      "@D:\\GitHub\\autocraft\\macros\\libs\\walk.lua:515 Walk: Cannot follow the path of the pathfinder\n",
      "stack traceback:\n",
      "\tD:\\GitHub\\autocraft\\macros\\libs\\walk.lua:515: in function 'walkTo'\n",
      "\tD:\\GitHub\\autocraft\\macros\\libs\\gathering/miner.lua:61: in function 'goToMinePlace'\n",
      "\tD:\\GitHub\\autocraft\\macros\\libs\\gathering/miner.lua:263: in function 'mine'\n",
      "\tD:\\GitHub\\autocraft\\macros\\libs\\farm.lua:6: in function '?'\n",
      "\tD:\\GitHub\\autocraft\\macros\\libs\\crafting.lua:210: in function 'craft'\n",
      "\tD:\\GitHub\\autocraft\\macros\\libs\\crafting.lua:225: in function 'craft'\n",
      "\tD:\\GitHub\\autocraft\\macros\\libs\\command.lua:155: in function <D:\\GitHub\\autocraft\\macros\\libs\\command.lua:144>\n",
      "\t[Java]: in function 'pcall'\n",
      "\tD:\\GitHub\\autocraft\\macros\\libs\\command.lua:50: in function <D:\\GitHub\\autocraft\\macros\\libs\\command.lua:49>\n",
      "\t[Java]: in ?\n"
     ]
    }
   ],
   "source": [
    "print(e['error'])\n",
    "print(e['traceback'])"
   ]
  },
  {
   "cell_type": "code",
   "execution_count": null,
   "metadata": {},
   "outputs": [],
   "source": []
  }
 ],
 "metadata": {
  "kernelspec": {
   "display_name": "Python 3",
   "language": "python",
   "name": "python3"
  },
  "language_info": {
   "codemirror_mode": {
    "name": "ipython",
    "version": 3
   },
   "file_extension": ".py",
   "mimetype": "text/x-python",
   "name": "python",
   "nbconvert_exporter": "python",
   "pygments_lexer": "ipython3",
   "version": "3.11.1"
  },
  "orig_nbformat": 4
 },
 "nbformat": 4,
 "nbformat_minor": 2
}
