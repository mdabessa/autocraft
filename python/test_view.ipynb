{
 "cells": [
  {
   "cell_type": "code",
   "execution_count": 206,
   "metadata": {},
   "outputs": [],
   "source": [
    "import json\n",
    "from collections import defaultdict\n",
    "from pprint import pprint\n",
    "import math\n",
    "import os\n",
    "import datetime\n",
    "\n",
    "import pandas\n",
    "import numpy as np\n",
    "import seaborn as sns"
   ]
  },
  {
   "cell_type": "code",
   "execution_count": 207,
   "metadata": {},
   "outputs": [],
   "source": [
    "def distance(point1, point2):\n",
    "    return math.sqrt(sum([(a - b) ** 2 for a, b in zip(point1, point2)]))"
   ]
  },
  {
   "cell_type": "code",
   "execution_count": 208,
   "metadata": {},
   "outputs": [],
   "source": [
    "# for all files in the directory and subdirectories\n",
    "tests = []\n",
    "\n",
    "for root, dirs, files in os.walk(\"../macros/tests\"):\n",
    "    for file in files:\n",
    "        if file.endswith(\".json\"):\n",
    "            with open(os.path.join(root, file), 'r') as f:\n",
    "                test = json.load(f)\n",
    "                test['name'] = file\n",
    "                tests.append(test)\n",
    "                   \n"
   ]
  },
  {
   "cell_type": "code",
   "execution_count": 209,
   "metadata": {},
   "outputs": [],
   "source": [
    "def get_attribute_tree(value):\n",
    "    attributes = {}\n",
    "    for k, v in value.items():\n",
    "        if isinstance(v, dict):\n",
    "            attr = get_attribute_tree(v)\n",
    "            for a, b in attr.items():\n",
    "                attributes[k + '.' + a] = b\n",
    "        else:\n",
    "            attributes[k] = v\n",
    "    \n",
    "    return attributes"
   ]
  },
  {
   "cell_type": "code",
   "execution_count": 210,
   "metadata": {},
   "outputs": [],
   "source": [
    "tests_ = []\n",
    "for test in tests:\n",
    "    if 'tests' not in test:\n",
    "        continue\n",
    "    for t in test['tests']:    \n",
    "        test_ = {\n",
    "            'header.name': test['name'],\n",
    "            'header.type': test['type'],\n",
    "        }\n",
    "        test_.update(get_attribute_tree(t))\n",
    "        tests_.append(test_)"
   ]
  },
  {
   "cell_type": "code",
   "execution_count": 211,
   "metadata": {},
   "outputs": [
    {
     "data": {
      "text/plain": [
       "147"
      ]
     },
     "execution_count": 211,
     "metadata": {},
     "output_type": "execute_result"
    }
   ],
   "source": [
    "len(tests_)"
   ]
  },
  {
   "cell_type": "code",
   "execution_count": 212,
   "metadata": {},
   "outputs": [
    {
     "data": {
      "text/plain": [
       "36"
      ]
     },
     "execution_count": 212,
     "metadata": {},
     "output_type": "execute_result"
    }
   ],
   "source": [
    "tests = [test_ for test_ in tests_ if test_['header.type'] == 'craft']\n",
    "len(tests)"
   ]
  },
  {
   "cell_type": "code",
   "execution_count": 213,
   "metadata": {},
   "outputs": [],
   "source": [
    "for test in tests:\n",
    "    if 'log' in test:\n",
    "        del test['log']"
   ]
  },
  {
   "cell_type": "code",
   "execution_count": 214,
   "metadata": {},
   "outputs": [
    {
     "data": {
      "text/plain": [
       "{'header.name': '2023-09-17_16-30-31.json',\n",
       " 'header.type': 'craft',\n",
       " 'endPos': [5539.383, 64, -75.34186],\n",
       " 'timeStart': 1694979070.0,\n",
       " 'biome': 'Stone Shore',\n",
       " 'traceback': \"@D:\\\\GitHub\\\\autocraft\\\\macros\\\\libs\\\\walk.lua:527 Path not found\\nstack traceback:\\n\\tD:\\\\GitHub\\\\autocraft\\\\macros\\\\libs\\\\walk.lua:527: in function 'walkTo'\\n\\tD:\\\\GitHub\\\\autocraft\\\\macros\\\\libs\\\\action.lua:199: in function 'buildWorkbench'\\n\\tD:\\\\GitHub\\\\autocraft\\\\macros\\\\libs\\\\crafting.lua:243: in function 'craftingTable'\\n\\tD:\\\\GitHub\\\\autocraft\\\\macros\\\\libs\\\\crafting.lua:370: in function 'craft'\\n\\tD:\\\\GitHub\\\\autocraft\\\\macros\\\\libs\\\\command.lua:190: in function <D:\\\\GitHub\\\\autocraft\\\\macros\\\\libs\\\\command.lua:176>\\n\\t[Java]: in function 'pcall'\\n\\tD:\\\\GitHub\\\\autocraft\\\\macros\\\\libs\\\\command.lua:72: in function <D:\\\\GitHub\\\\autocraft\\\\macros\\\\libs\\\\command.lua:71>\\n\\t[Java]: in ?\",\n",
       " 'status': False,\n",
       " 'timeTaken': 108.125,\n",
       " 'error': 'Path not found',\n",
       " 'startPos': [5540.665, 0, -30.286892],\n",
       " 'world.moonPhase': 4,\n",
       " 'world.isDaytime': True,\n",
       " 'world.isDifficultyLocked': False,\n",
       " 'world.border.radius': 30000000,\n",
       " 'world.border.centerZ': 0,\n",
       " 'world.border.dmgPerBlock': 0.2,\n",
       " 'world.border.dmgBuffer': 5,\n",
       " 'world.border.warningDist': 5,\n",
       " 'world.border.centerX': 0,\n",
       " 'world.border.size': 29999984,\n",
       " 'world.gameType': 'survival',\n",
       " 'world.worldTime': 6176917,\n",
       " 'world.rainTime': 0,\n",
       " 'world.weather': 'rain',\n",
       " 'world.isHardcore': False,\n",
       " 'world.connectionType': 'MODDED',\n",
       " 'world.isSinglePlayer': True,\n",
       " 'world.difficulty': 'peaceful',\n",
       " 'world.isLanHost': False,\n",
       " 'world.name': 'MpServer',\n",
       " 'world.seed': 6889688615036750848,\n",
       " 'world.isRemote': True,\n",
       " 'world.clearWeatherTime': 0,\n",
       " 'world.spawn': [240, 70, 241],\n",
       " 'timeEnd': 1694979200.0}"
      ]
     },
     "execution_count": 214,
     "metadata": {},
     "output_type": "execute_result"
    }
   ],
   "source": [
    "tests[0]"
   ]
  },
  {
   "cell_type": "code",
   "execution_count": 215,
   "metadata": {},
   "outputs": [],
   "source": [
    "df = pandas.DataFrame(tests)                        \n",
    "df.sort_values(by=['timeStart'], inplace=True)\n",
    "df.reset_index(inplace=True, drop=True)"
   ]
  },
  {
   "cell_type": "code",
   "execution_count": 216,
   "metadata": {},
   "outputs": [],
   "source": [
    "df['timeStart'] = pandas.to_datetime(df['timeStart'], unit='s')\n",
    "df['timeEnd'] = pandas.to_datetime(df['timeEnd'], unit='s')"
   ]
  },
  {
   "cell_type": "code",
   "execution_count": 217,
   "metadata": {},
   "outputs": [
    {
     "data": {
      "text/plain": [
       "(36, 35)"
      ]
     },
     "execution_count": 217,
     "metadata": {},
     "output_type": "execute_result"
    }
   ],
   "source": [
    "df.shape"
   ]
  },
  {
   "cell_type": "code",
   "execution_count": 218,
   "metadata": {},
   "outputs": [],
   "source": [
    "df = df[df['timeStart'] > datetime.datetime(2023, 10, 1, 0, 0, 0)]"
   ]
  },
  {
   "cell_type": "code",
   "execution_count": 219,
   "metadata": {},
   "outputs": [
    {
     "data": {
      "text/plain": [
       "(30, 35)"
      ]
     },
     "execution_count": 219,
     "metadata": {},
     "output_type": "execute_result"
    }
   ],
   "source": [
    "df.shape"
   ]
  },
  {
   "cell_type": "code",
   "execution_count": 220,
   "metadata": {},
   "outputs": [],
   "source": [
    "df['error'].fillna('', inplace=True)"
   ]
  },
  {
   "cell_type": "code",
   "execution_count": 221,
   "metadata": {},
   "outputs": [],
   "source": [
    "df.loc[df['error'].str.contains('nil'), 'error'] = 'Code error'\n",
    "df.loc[df['error'].str.contains('attempt'), 'error'] = 'Code error'\n",
    "df.loc[df['error'].str.startswith('@'), 'error'] = 'Code error'"
   ]
  },
  {
   "cell_type": "code",
   "execution_count": 222,
   "metadata": {},
   "outputs": [],
   "source": [
    "df['distance'] = df.apply(lambda x: distance(x['startPos'], x['endPos']), axis=1)\n",
    "df['distance_roll'] = df['distance'].rolling(10).mean()"
   ]
  },
  {
   "cell_type": "code",
   "execution_count": 223,
   "metadata": {},
   "outputs": [],
   "source": [
    "df['blocks_per_second'] = df['distance'] / df['timeTaken']\n",
    "df = df[df['blocks_per_second'] < 100] # remove outliers (teleports)\n",
    "df['blocks_per_second_roll'] = df['blocks_per_second'].rolling(10).mean()"
   ]
  },
  {
   "cell_type": "code",
   "execution_count": 224,
   "metadata": {},
   "outputs": [
    {
     "data": {
      "text/html": [
       "<div>\n",
       "<style scoped>\n",
       "    .dataframe tbody tr th:only-of-type {\n",
       "        vertical-align: middle;\n",
       "    }\n",
       "\n",
       "    .dataframe tbody tr th {\n",
       "        vertical-align: top;\n",
       "    }\n",
       "\n",
       "    .dataframe thead th {\n",
       "        text-align: right;\n",
       "    }\n",
       "</style>\n",
       "<table border=\"1\" class=\"dataframe\">\n",
       "  <thead>\n",
       "    <tr style=\"text-align: right;\">\n",
       "      <th></th>\n",
       "      <th>header.name</th>\n",
       "      <th>header.type</th>\n",
       "      <th>endPos</th>\n",
       "      <th>timeStart</th>\n",
       "      <th>biome</th>\n",
       "      <th>traceback</th>\n",
       "      <th>status</th>\n",
       "      <th>timeTaken</th>\n",
       "      <th>error</th>\n",
       "      <th>startPos</th>\n",
       "      <th>...</th>\n",
       "      <th>world.name</th>\n",
       "      <th>world.seed</th>\n",
       "      <th>world.isRemote</th>\n",
       "      <th>world.clearWeatherTime</th>\n",
       "      <th>world.spawn</th>\n",
       "      <th>timeEnd</th>\n",
       "      <th>distance</th>\n",
       "      <th>distance_roll</th>\n",
       "      <th>blocks_per_second</th>\n",
       "      <th>blocks_per_second_roll</th>\n",
       "    </tr>\n",
       "  </thead>\n",
       "  <tbody>\n",
       "    <tr>\n",
       "      <th>6</th>\n",
       "      <td>2023-10-12_00-11-04.json</td>\n",
       "      <td>craft</td>\n",
       "      <td>[13581.768, 65, 15509.5]</td>\n",
       "      <td>2023-10-12 03:12:00</td>\n",
       "      <td>Forest</td>\n",
       "      <td>@D:\\GitHub\\autocraft\\macros\\libs\\crafting.lua:...</td>\n",
       "      <td>False</td>\n",
       "      <td>87.436</td>\n",
       "      <td>Code error</td>\n",
       "      <td>[13588.463, 0, 15512.258]</td>\n",
       "      <td>...</td>\n",
       "      <td>MpServer</td>\n",
       "      <td>6889688615036750848</td>\n",
       "      <td>True</td>\n",
       "      <td>0</td>\n",
       "      <td>[240, 70, 241]</td>\n",
       "      <td>2023-10-12 03:14:10</td>\n",
       "      <td>65.402061</td>\n",
       "      <td>NaN</td>\n",
       "      <td>0.747999</td>\n",
       "      <td>NaN</td>\n",
       "    </tr>\n",
       "    <tr>\n",
       "      <th>8</th>\n",
       "      <td>2023-10-12_00-11-04.json</td>\n",
       "      <td>craft</td>\n",
       "      <td>[7364.4004, 98, 337.43738]</td>\n",
       "      <td>2023-10-12 03:12:00</td>\n",
       "      <td>Mountains</td>\n",
       "      <td>NaN</td>\n",
       "      <td>True</td>\n",
       "      <td>51.088</td>\n",
       "      <td></td>\n",
       "      <td>[7370.699, 0, 346.3]</td>\n",
       "      <td>...</td>\n",
       "      <td>MpServer</td>\n",
       "      <td>6889688615036750848</td>\n",
       "      <td>True</td>\n",
       "      <td>0</td>\n",
       "      <td>[240, 70, 241]</td>\n",
       "      <td>2023-10-12 03:12:00</td>\n",
       "      <td>98.601310</td>\n",
       "      <td>NaN</td>\n",
       "      <td>1.930029</td>\n",
       "      <td>NaN</td>\n",
       "    </tr>\n",
       "    <tr>\n",
       "      <th>9</th>\n",
       "      <td>2023-10-12_00-11-04.json</td>\n",
       "      <td>craft</td>\n",
       "      <td>[13588.463, 69, 6961.2583]</td>\n",
       "      <td>2023-10-12 03:12:00</td>\n",
       "      <td>River</td>\n",
       "      <td>@D:\\GitHub\\autocraft\\macros\\libs\\crafting.lua:...</td>\n",
       "      <td>False</td>\n",
       "      <td>42.714</td>\n",
       "      <td>Code error</td>\n",
       "      <td>[13579.4, 0, 6940.4375]</td>\n",
       "      <td>...</td>\n",
       "      <td>MpServer</td>\n",
       "      <td>6889688615036750848</td>\n",
       "      <td>True</td>\n",
       "      <td>0</td>\n",
       "      <td>[240, 70, 241]</td>\n",
       "      <td>2023-10-12 03:12:00</td>\n",
       "      <td>72.640510</td>\n",
       "      <td>NaN</td>\n",
       "      <td>1.700625</td>\n",
       "      <td>NaN</td>\n",
       "    </tr>\n",
       "    <tr>\n",
       "      <th>10</th>\n",
       "      <td>2023-10-12_00-11-04.json</td>\n",
       "      <td>craft</td>\n",
       "      <td>[22666.527, 62, 15505.3]</td>\n",
       "      <td>2023-10-12 03:14:10</td>\n",
       "      <td>Swamp</td>\n",
       "      <td>@D:\\GitHub\\autocraft\\macros\\libs\\crafting.lua:...</td>\n",
       "      <td>False</td>\n",
       "      <td>300.201</td>\n",
       "      <td>Timeout</td>\n",
       "      <td>[22667.768, 0, 15509.5]</td>\n",
       "      <td>...</td>\n",
       "      <td>MpServer</td>\n",
       "      <td>6889688615036750848</td>\n",
       "      <td>True</td>\n",
       "      <td>0</td>\n",
       "      <td>[240, 70, 241]</td>\n",
       "      <td>2023-10-12 03:20:30</td>\n",
       "      <td>62.154486</td>\n",
       "      <td>NaN</td>\n",
       "      <td>0.207043</td>\n",
       "      <td>NaN</td>\n",
       "    </tr>\n",
       "    <tr>\n",
       "      <th>11</th>\n",
       "      <td>2023-10-12_00-11-04.json</td>\n",
       "      <td>craft</td>\n",
       "      <td>[22689.52, 73, 21280.453]</td>\n",
       "      <td>2023-10-12 03:20:30</td>\n",
       "      <td>Sunflower Plains</td>\n",
       "      <td>@D:\\GitHub\\autocraft\\macros\\libs\\crafting.lua:...</td>\n",
       "      <td>False</td>\n",
       "      <td>300.203</td>\n",
       "      <td>Timeout</td>\n",
       "      <td>[22666.527, 0, 21308.3]</td>\n",
       "      <td>...</td>\n",
       "      <td>MpServer</td>\n",
       "      <td>6889688615036750848</td>\n",
       "      <td>True</td>\n",
       "      <td>0</td>\n",
       "      <td>[240, 70, 241]</td>\n",
       "      <td>2023-10-12 03:24:50</td>\n",
       "      <td>81.444051</td>\n",
       "      <td>NaN</td>\n",
       "      <td>0.271297</td>\n",
       "      <td>NaN</td>\n",
       "    </tr>\n",
       "  </tbody>\n",
       "</table>\n",
       "<p>5 rows × 39 columns</p>\n",
       "</div>"
      ],
      "text/plain": [
       "                 header.name header.type                      endPos  \\\n",
       "6   2023-10-12_00-11-04.json       craft    [13581.768, 65, 15509.5]   \n",
       "8   2023-10-12_00-11-04.json       craft  [7364.4004, 98, 337.43738]   \n",
       "9   2023-10-12_00-11-04.json       craft  [13588.463, 69, 6961.2583]   \n",
       "10  2023-10-12_00-11-04.json       craft    [22666.527, 62, 15505.3]   \n",
       "11  2023-10-12_00-11-04.json       craft   [22689.52, 73, 21280.453]   \n",
       "\n",
       "             timeStart             biome  \\\n",
       "6  2023-10-12 03:12:00            Forest   \n",
       "8  2023-10-12 03:12:00         Mountains   \n",
       "9  2023-10-12 03:12:00             River   \n",
       "10 2023-10-12 03:14:10             Swamp   \n",
       "11 2023-10-12 03:20:30  Sunflower Plains   \n",
       "\n",
       "                                            traceback  status  timeTaken  \\\n",
       "6   @D:\\GitHub\\autocraft\\macros\\libs\\crafting.lua:...   False     87.436   \n",
       "8                                                 NaN    True     51.088   \n",
       "9   @D:\\GitHub\\autocraft\\macros\\libs\\crafting.lua:...   False     42.714   \n",
       "10  @D:\\GitHub\\autocraft\\macros\\libs\\crafting.lua:...   False    300.201   \n",
       "11  @D:\\GitHub\\autocraft\\macros\\libs\\crafting.lua:...   False    300.203   \n",
       "\n",
       "         error                   startPos  ...  world.name  \\\n",
       "6   Code error  [13588.463, 0, 15512.258]  ...    MpServer   \n",
       "8                    [7370.699, 0, 346.3]  ...    MpServer   \n",
       "9   Code error    [13579.4, 0, 6940.4375]  ...    MpServer   \n",
       "10     Timeout    [22667.768, 0, 15509.5]  ...    MpServer   \n",
       "11     Timeout    [22666.527, 0, 21308.3]  ...    MpServer   \n",
       "\n",
       "             world.seed  world.isRemote  world.clearWeatherTime  \\\n",
       "6   6889688615036750848            True                       0   \n",
       "8   6889688615036750848            True                       0   \n",
       "9   6889688615036750848            True                       0   \n",
       "10  6889688615036750848            True                       0   \n",
       "11  6889688615036750848            True                       0   \n",
       "\n",
       "       world.spawn             timeEnd   distance  distance_roll  \\\n",
       "6   [240, 70, 241] 2023-10-12 03:14:10  65.402061            NaN   \n",
       "8   [240, 70, 241] 2023-10-12 03:12:00  98.601310            NaN   \n",
       "9   [240, 70, 241] 2023-10-12 03:12:00  72.640510            NaN   \n",
       "10  [240, 70, 241] 2023-10-12 03:20:30  62.154486            NaN   \n",
       "11  [240, 70, 241] 2023-10-12 03:24:50  81.444051            NaN   \n",
       "\n",
       "    blocks_per_second  blocks_per_second_roll  \n",
       "6            0.747999                     NaN  \n",
       "8            1.930029                     NaN  \n",
       "9            1.700625                     NaN  \n",
       "10           0.207043                     NaN  \n",
       "11           0.271297                     NaN  \n",
       "\n",
       "[5 rows x 39 columns]"
      ]
     },
     "execution_count": 224,
     "metadata": {},
     "output_type": "execute_result"
    }
   ],
   "source": [
    "df.head()"
   ]
  },
  {
   "cell_type": "code",
   "execution_count": 225,
   "metadata": {},
   "outputs": [
    {
     "data": {
      "text/plain": [
       "Text(0.5, 0, 'Test')"
      ]
     },
     "execution_count": 225,
     "metadata": {},
     "output_type": "execute_result"
    },
    {
     "data": {
      "image/png": "[encoded data removed]",
      "text/plain": [
       "<Figure size 640x480 with 1 Axes>"
      ]
     },
     "metadata": {},
     "output_type": "display_data"
    }
   ],
   "source": [
    "fig = sns.lineplot(x=df.index, y='distance', data=df)\n",
    "fig.set_title('Distance travelled')\n",
    "fig.set_ylabel('Distance (blocks)')\n",
    "fig.set_xlabel('Test')"
   ]
  },
  {
   "cell_type": "code",
   "execution_count": 226,
   "metadata": {},
   "outputs": [
    {
     "name": "stdout",
     "output_type": "stream",
     "text": [
      "Average distance travelled: 180.00 blocks\n"
     ]
    }
   ],
   "source": [
    "print('Average distance travelled: {:.2f} blocks'.format(df['distance'].mean()))"
   ]
  },
  {
   "cell_type": "code",
   "execution_count": 227,
   "metadata": {},
   "outputs": [
    {
     "data": {
      "text/plain": [
       "Text(0.5, 0, 'Test')"
      ]
     },
     "execution_count": 227,
     "metadata": {},
     "output_type": "execute_result"
    },
    {
     "data": {
      "image/png": "[encoded data removed]",
      "text/plain": [
       "<Figure size 640x480 with 1 Axes>"
      ]
     },
     "metadata": {},
     "output_type": "display_data"
    }
   ],
   "source": [
    "# add blocks per second\n",
    "fig = sns.lineplot(x=df.index, y='blocks_per_second_roll', data=df)\n",
    "fig.set_title('Blocks per second')\n",
    "fig.set_ylabel('Blocks per second')\n",
    "fig.set_xlabel('Test')"
   ]
  },
  {
   "cell_type": "code",
   "execution_count": 232,
   "metadata": {},
   "outputs": [
    {
     "name": "stdout",
     "output_type": "stream",
     "text": [
      "23 errors out of 29 tests\n"
     ]
    },
    {
     "data": {
      "text/plain": [
       "<AxesSubplot: title={'center': 'Errors'}, ylabel='error'>"
      ]
     },
     "execution_count": 232,
     "metadata": {},
     "output_type": "execute_result"
    },
    {
     "data": {
      "image/png": "[encoded data removed]",
      "text/plain": [
       "<Figure size 500x500 with 1 Axes>"
      ]
     },
     "metadata": {},
     "output_type": "display_data"
    }
   ],
   "source": [
    "# pie chart of errors\n",
    "error = df[df['error'] != '' ]['error']\n",
    "print(f'{len(error)} errors out of {len(df)} tests')\n",
    "error.value_counts().plot.pie(\n",
    "    autopct='%1.1f%%',\n",
    "    figsize=(5, 5),\n",
    "    title='Errors',\n",
    "    fontsize=8,\n",
    "    legend=True,\n",
    ")"
   ]
  },
  {
   "cell_type": "code",
   "execution_count": 230,
   "metadata": {},
   "outputs": [
    {
     "name": "stdout",
     "output_type": "stream",
     "text": [
      "Code errors:  7\n",
      "@D:\\GitHub\\autocraft\\macros\\libs\\crafting.lua:403 @D:\\GitHub\\autocraft\\macros\\libs\\crafting.lua:403 @D:\\GitHub\\autocraft\\macros\\libs\\walk.lua:538 Player taking too long to break blocks\n",
      "stack traceback:\n",
      "\tD:\\GitHub\\autocraft\\macros\\libs\\walk.lua:538: in function 'walkTo'\n",
      "\tD:\\GitHub\\autocraft\\macros\\libs\\gathering/wood.lua:30: in function 'cutTree'\n",
      "\tD:\\GitHub\\autocraft\\macros\\libs\\gathering/wood.lua:52: in function '?'\n",
      "\tD:\\GitHub\\autocraft\\macros\\libs\\crafting.lua:374: in function <D:\\GitHub\\autocraft\\macros\\libs\\crafting.lua:368>\n",
      "\t[Java]: in function 'pcall'\n",
      "\tD:\\GitHub\\autocraft\\macros\\libs\\crafting.lua:390: in function <D:\\GitHub\\autocraft\\macros\\libs\\crafting.lua:368>\n",
      "\t[Java]: in function 'pcall'\n",
      "\tD:\\GitHub\\autocraft\\macros\\libs\\crafting.lua:390: in function 'craft'\n",
      "\tD:\\GitHub\\autocraft\\macros\\libs\\command.lua:190: in function <D:\\GitHub\\autocraft\\macros\\libs\\command.lua:176>\n",
      "\t[Java]: in function 'pcall'\n",
      "\tD:\\GitHub\\autocraft\\macros\\libs\\command.lua:72: in function <D:\\GitHub\\autocraft\\macros\\libs\\command.lua:71>\n",
      "\t[Java]: in ?\n",
      "stack traceback:\n",
      "\tD:\\GitHub\\autocraft\\macros\\libs\\crafting.lua:403: in function <D:\\GitHub\\autocraft\\macros\\libs\\crafting.lua:368>\n",
      "\t[Java]: in function 'pcall'\n",
      "\tD:\\GitHub\\autocraft\\macros\\libs\\crafting.lua:390: in function 'craft'\n",
      "\tD:\\GitHub\\autocraft\\macros\\libs\\command.lua:190: in function <D:\\GitHub\\autocraft\\macros\\libs\\command.lua:176>\n",
      "\t[Java]: in function 'pcall'\n",
      "\tD:\\GitHub\\autocraft\\macros\\libs\\command.lua:72: in function <D:\\GitHub\\autocraft\\macros\\libs\\command.lua:71>\n",
      "\t[Java]: in ?\n",
      "stack traceback:\n",
      "\tD:\\GitHub\\autocraft\\macros\\libs\\crafting.lua:403: in function 'craft'\n",
      "\tD:\\GitHub\\autocraft\\macros\\libs\\command.lua:190: in function <D:\\GitHub\\autocraft\\macros\\libs\\command.lua:176>\n",
      "\t[Java]: in function 'pcall'\n",
      "\tD:\\GitHub\\autocraft\\macros\\libs\\command.lua:72: in function <D:\\GitHub\\autocraft\\macros\\libs\\command.lua:71>\n",
      "\t[Java]: in ?\n",
      "@D:\\GitHub\\autocraft\\macros\\libs\\crafting.lua:403 @D:\\GitHub\\autocraft\\macros\\libs\\crafting.lua:403 @D:\\GitHub\\autocraft\\macros\\libs\\walk.lua:538 Player taking too long to break blocks\n",
      "stack traceback:\n",
      "\tD:\\GitHub\\autocraft\\macros\\libs\\walk.lua:538: in function 'walkTo'\n",
      "\tD:\\GitHub\\autocraft\\macros\\libs\\gathering/wood.lua:30: in function 'cutTree'\n",
      "\tD:\\GitHub\\autocraft\\macros\\libs\\gathering/wood.lua:52: in function '?'\n",
      "\tD:\\GitHub\\autocraft\\macros\\libs\\crafting.lua:374: in function <D:\\GitHub\\autocraft\\macros\\libs\\crafting.lua:368>\n",
      "\t[Java]: in function 'pcall'\n",
      "\tD:\\GitHub\\autocraft\\macros\\libs\\crafting.lua:390: in function <D:\\GitHub\\autocraft\\macros\\libs\\crafting.lua:368>\n",
      "\t[Java]: in function 'pcall'\n",
      "\tD:\\GitHub\\autocraft\\macros\\libs\\crafting.lua:390: in function 'craft'\n",
      "\tD:\\GitHub\\autocraft\\macros\\libs\\command.lua:190: in function <D:\\GitHub\\autocraft\\macros\\libs\\command.lua:176>\n",
      "\t[Java]: in function 'pcall'\n",
      "\tD:\\GitHub\\autocraft\\macros\\libs\\command.lua:72: in function <D:\\GitHub\\autocraft\\macros\\libs\\command.lua:71>\n",
      "\t[Java]: in ?\n",
      "stack traceback:\n",
      "\tD:\\GitHub\\autocraft\\macros\\libs\\crafting.lua:403: in function <D:\\GitHub\\autocraft\\macros\\libs\\crafting.lua:368>\n",
      "\t[Java]: in function 'pcall'\n",
      "\tD:\\GitHub\\autocraft\\macros\\libs\\crafting.lua:390: in function 'craft'\n",
      "\tD:\\GitHub\\autocraft\\macros\\libs\\command.lua:190: in function <D:\\GitHub\\autocraft\\macros\\libs\\command.lua:176>\n",
      "\t[Java]: in function 'pcall'\n",
      "\tD:\\GitHub\\autocraft\\macros\\libs\\command.lua:72: in function <D:\\GitHub\\autocraft\\macros\\libs\\command.lua:71>\n",
      "\t[Java]: in ?\n",
      "stack traceback:\n",
      "\tD:\\GitHub\\autocraft\\macros\\libs\\crafting.lua:403: in function 'craft'\n",
      "\tD:\\GitHub\\autocraft\\macros\\libs\\command.lua:190: in function <D:\\GitHub\\autocraft\\macros\\libs\\command.lua:176>\n",
      "\t[Java]: in function 'pcall'\n",
      "\tD:\\GitHub\\autocraft\\macros\\libs\\command.lua:72: in function <D:\\GitHub\\autocraft\\macros\\libs\\command.lua:71>\n",
      "\t[Java]: in ?\n",
      "@D:\\GitHub\\autocraft\\macros\\libs\\crafting.lua:403 @D:\\GitHub\\autocraft\\macros\\libs\\crafting.lua:403 @D:\\GitHub\\autocraft\\macros\\libs\\walk.lua:527 Path not found\n",
      "stack traceback:\n",
      "\tD:\\GitHub\\autocraft\\macros\\libs\\walk.lua:527: in function 'walkAway'\n",
      "\tD:\\GitHub\\autocraft\\macros\\libs\\gathering/wood.lua:49: in function '?'\n",
      "\tD:\\GitHub\\autocraft\\macros\\libs\\crafting.lua:374: in function <D:\\GitHub\\autocraft\\macros\\libs\\crafting.lua:368>\n",
      "\t[Java]: in function 'pcall'\n",
      "\tD:\\GitHub\\autocraft\\macros\\libs\\crafting.lua:390: in function <D:\\GitHub\\autocraft\\macros\\libs\\crafting.lua:368>\n",
      "\t[Java]: in function 'pcall'\n",
      "\tD:\\GitHub\\autocraft\\macros\\libs\\crafting.lua:390: in function 'craft'\n",
      "\tD:\\GitHub\\autocraft\\macros\\libs\\command.lua:190: in function <D:\\GitHub\\autocraft\\macros\\libs\\command.lua:176>\n",
      "\t[Java]: in function 'pcall'\n",
      "\tD:\\GitHub\\autocraft\\macros\\libs\\command.lua:72: in function <D:\\GitHub\\autocraft\\macros\\libs\\command.lua:71>\n",
      "\t[Java]: in ?\n",
      "stack traceback:\n",
      "\tD:\\GitHub\\autocraft\\macros\\libs\\crafting.lua:403: in function <D:\\GitHub\\autocraft\\macros\\libs\\crafting.lua:368>\n",
      "\t[Java]: in function 'pcall'\n",
      "\tD:\\GitHub\\autocraft\\macros\\libs\\crafting.lua:390: in function 'craft'\n",
      "\tD:\\GitHub\\autocraft\\macros\\libs\\command.lua:190: in function <D:\\GitHub\\autocraft\\macros\\libs\\command.lua:176>\n",
      "\t[Java]: in function 'pcall'\n",
      "\tD:\\GitHub\\autocraft\\macros\\libs\\command.lua:72: in function <D:\\GitHub\\autocraft\\macros\\libs\\command.lua:71>\n",
      "\t[Java]: in ?\n",
      "stack traceback:\n",
      "\tD:\\GitHub\\autocraft\\macros\\libs\\crafting.lua:403: in function 'craft'\n",
      "\tD:\\GitHub\\autocraft\\macros\\libs\\command.lua:190: in function <D:\\GitHub\\autocraft\\macros\\libs\\command.lua:176>\n",
      "\t[Java]: in function 'pcall'\n",
      "\tD:\\GitHub\\autocraft\\macros\\libs\\command.lua:72: in function <D:\\GitHub\\autocraft\\macros\\libs\\command.lua:71>\n",
      "\t[Java]: in ?\n",
      "@D:\\GitHub\\autocraft\\macros\\libs\\crafting.lua:403 @D:\\GitHub\\autocraft\\macros\\libs\\crafting.lua:403 @D:\\GitHub\\autocraft\\macros\\libs\\walk.lua:538 Player taking too long to break blocks\n",
      "stack traceback:\n",
      "\tD:\\GitHub\\autocraft\\macros\\libs\\walk.lua:538: in function 'walkTo'\n",
      "\tD:\\GitHub\\autocraft\\macros\\libs\\gathering/wood.lua:30: in function 'cutTree'\n",
      "\tD:\\GitHub\\autocraft\\macros\\libs\\gathering/wood.lua:52: in function '?'\n",
      "\tD:\\GitHub\\autocraft\\macros\\libs\\crafting.lua:374: in function <D:\\GitHub\\autocraft\\macros\\libs\\crafting.lua:368>\n",
      "\t[Java]: in function 'pcall'\n",
      "\tD:\\GitHub\\autocraft\\macros\\libs\\crafting.lua:390: in function <D:\\GitHub\\autocraft\\macros\\libs\\crafting.lua:368>\n",
      "\t[Java]: in function 'pcall'\n",
      "\tD:\\GitHub\\autocraft\\macros\\libs\\crafting.lua:390: in function 'craft'\n",
      "\tD:\\GitHub\\autocraft\\macros\\libs\\command.lua:190: in function <D:\\GitHub\\autocraft\\macros\\libs\\command.lua:176>\n",
      "\t[Java]: in function 'pcall'\n",
      "\tD:\\GitHub\\autocraft\\macros\\libs\\command.lua:72: in function <D:\\GitHub\\autocraft\\macros\\libs\\command.lua:71>\n",
      "\t[Java]: in ?\n",
      "stack traceback:\n",
      "\tD:\\GitHub\\autocraft\\macros\\libs\\crafting.lua:403: in function <D:\\GitHub\\autocraft\\macros\\libs\\crafting.lua:368>\n",
      "\t[Java]: in function 'pcall'\n",
      "\tD:\\GitHub\\autocraft\\macros\\libs\\crafting.lua:390: in function 'craft'\n",
      "\tD:\\GitHub\\autocraft\\macros\\libs\\command.lua:190: in function <D:\\GitHub\\autocraft\\macros\\libs\\command.lua:176>\n",
      "\t[Java]: in function 'pcall'\n",
      "\tD:\\GitHub\\autocraft\\macros\\libs\\command.lua:72: in function <D:\\GitHub\\autocraft\\macros\\libs\\command.lua:71>\n",
      "\t[Java]: in ?\n",
      "stack traceback:\n",
      "\tD:\\GitHub\\autocraft\\macros\\libs\\crafting.lua:403: in function 'craft'\n",
      "\tD:\\GitHub\\autocraft\\macros\\libs\\command.lua:190: in function <D:\\GitHub\\autocraft\\macros\\libs\\command.lua:176>\n",
      "\t[Java]: in function 'pcall'\n",
      "\tD:\\GitHub\\autocraft\\macros\\libs\\command.lua:72: in function <D:\\GitHub\\autocraft\\macros\\libs\\command.lua:71>\n",
      "\t[Java]: in ?\n",
      "@D:\\GitHub\\autocraft\\macros\\libs\\crafting.lua:403 @D:\\GitHub\\autocraft\\macros\\libs\\crafting.lua:403 @D:\\GitHub\\autocraft\\macros\\libs\\walk.lua:527 Path not found\n",
      "stack traceback:\n",
      "\tD:\\GitHub\\autocraft\\macros\\libs\\walk.lua:527: in function 'walkAway'\n",
      "\tD:\\GitHub\\autocraft\\macros\\libs\\gathering/wood.lua:49: in function '?'\n",
      "\tD:\\GitHub\\autocraft\\macros\\libs\\crafting.lua:374: in function <D:\\GitHub\\autocraft\\macros\\libs\\crafting.lua:368>\n",
      "\t[Java]: in function 'pcall'\n",
      "\tD:\\GitHub\\autocraft\\macros\\libs\\crafting.lua:390: in function <D:\\GitHub\\autocraft\\macros\\libs\\crafting.lua:368>\n",
      "\t[Java]: in function 'pcall'\n",
      "\tD:\\GitHub\\autocraft\\macros\\libs\\crafting.lua:390: in function 'craft'\n",
      "\tD:\\GitHub\\autocraft\\macros\\libs\\command.lua:190: in function <D:\\GitHub\\autocraft\\macros\\libs\\command.lua:176>\n",
      "\t[Java]: in function 'pcall'\n",
      "\tD:\\GitHub\\autocraft\\macros\\libs\\command.lua:72: in function <D:\\GitHub\\autocraft\\macros\\libs\\command.lua:71>\n",
      "\t[Java]: in ?\n",
      "stack traceback:\n",
      "\tD:\\GitHub\\autocraft\\macros\\libs\\crafting.lua:403: in function <D:\\GitHub\\autocraft\\macros\\libs\\crafting.lua:368>\n",
      "\t[Java]: in function 'pcall'\n",
      "\tD:\\GitHub\\autocraft\\macros\\libs\\crafting.lua:390: in function 'craft'\n",
      "\tD:\\GitHub\\autocraft\\macros\\libs\\command.lua:190: in function <D:\\GitHub\\autocraft\\macros\\libs\\command.lua:176>\n",
      "\t[Java]: in function 'pcall'\n",
      "\tD:\\GitHub\\autocraft\\macros\\libs\\command.lua:72: in function <D:\\GitHub\\autocraft\\macros\\libs\\command.lua:71>\n",
      "\t[Java]: in ?\n",
      "stack traceback:\n",
      "\tD:\\GitHub\\autocraft\\macros\\libs\\crafting.lua:403: in function 'craft'\n",
      "\tD:\\GitHub\\autocraft\\macros\\libs\\command.lua:190: in function <D:\\GitHub\\autocraft\\macros\\libs\\command.lua:176>\n",
      "\t[Java]: in function 'pcall'\n",
      "\tD:\\GitHub\\autocraft\\macros\\libs\\command.lua:72: in function <D:\\GitHub\\autocraft\\macros\\libs\\command.lua:71>\n",
      "\t[Java]: in ?\n",
      "@D:\\GitHub\\autocraft\\macros\\libs\\crafting.lua:403 @D:\\GitHub\\autocraft\\macros\\libs\\crafting.lua:403 @D:\\GitHub\\autocraft\\macros\\libs\\walk.lua:538 Player taking too long to break blocks\n",
      "stack traceback:\n",
      "\tD:\\GitHub\\autocraft\\macros\\libs\\walk.lua:538: in function 'walkTo'\n",
      "\tD:\\GitHub\\autocraft\\macros\\libs\\gathering/wood.lua:30: in function 'cutTree'\n",
      "\tD:\\GitHub\\autocraft\\macros\\libs\\gathering/wood.lua:52: in function '?'\n",
      "\tD:\\GitHub\\autocraft\\macros\\libs\\crafting.lua:374: in function <D:\\GitHub\\autocraft\\macros\\libs\\crafting.lua:368>\n",
      "\t[Java]: in function 'pcall'\n",
      "\tD:\\GitHub\\autocraft\\macros\\libs\\crafting.lua:390: in function <D:\\GitHub\\autocraft\\macros\\libs\\crafting.lua:368>\n",
      "\t[Java]: in function 'pcall'\n",
      "\tD:\\GitHub\\autocraft\\macros\\libs\\crafting.lua:390: in function 'craft'\n",
      "\tD:\\GitHub\\autocraft\\macros\\libs\\command.lua:190: in function <D:\\GitHub\\autocraft\\macros\\libs\\command.lua:176>\n",
      "\t[Java]: in function 'pcall'\n",
      "\tD:\\GitHub\\autocraft\\macros\\libs\\command.lua:72: in function <D:\\GitHub\\autocraft\\macros\\libs\\command.lua:71>\n",
      "\t[Java]: in ?\n",
      "stack traceback:\n",
      "\tD:\\GitHub\\autocraft\\macros\\libs\\crafting.lua:403: in function <D:\\GitHub\\autocraft\\macros\\libs\\crafting.lua:368>\n",
      "\t[Java]: in function 'pcall'\n",
      "\tD:\\GitHub\\autocraft\\macros\\libs\\crafting.lua:390: in function 'craft'\n",
      "\tD:\\GitHub\\autocraft\\macros\\libs\\command.lua:190: in function <D:\\GitHub\\autocraft\\macros\\libs\\command.lua:176>\n",
      "\t[Java]: in function 'pcall'\n",
      "\tD:\\GitHub\\autocraft\\macros\\libs\\command.lua:72: in function <D:\\GitHub\\autocraft\\macros\\libs\\command.lua:71>\n",
      "\t[Java]: in ?\n",
      "stack traceback:\n",
      "\tD:\\GitHub\\autocraft\\macros\\libs\\crafting.lua:403: in function 'craft'\n",
      "\tD:\\GitHub\\autocraft\\macros\\libs\\command.lua:190: in function <D:\\GitHub\\autocraft\\macros\\libs\\command.lua:176>\n",
      "\t[Java]: in function 'pcall'\n",
      "\tD:\\GitHub\\autocraft\\macros\\libs\\command.lua:72: in function <D:\\GitHub\\autocraft\\macros\\libs\\command.lua:71>\n",
      "\t[Java]: in ?\n",
      "@D:\\GitHub\\autocraft\\macros\\libs\\crafting.lua:403 @D:\\GitHub\\autocraft\\macros\\libs\\crafting.lua:403 @D:\\GitHub\\autocraft\\macros\\libs\\walk.lua:527 Path not found\n",
      "stack traceback:\n",
      "\tD:\\GitHub\\autocraft\\macros\\libs\\walk.lua:527: in function 'walkAway'\n",
      "\tD:\\GitHub\\autocraft\\macros\\libs\\gathering/wood.lua:49: in function '?'\n",
      "\tD:\\GitHub\\autocraft\\macros\\libs\\crafting.lua:374: in function <D:\\GitHub\\autocraft\\macros\\libs\\crafting.lua:368>\n",
      "\t[Java]: in function 'pcall'\n",
      "\tD:\\GitHub\\autocraft\\macros\\libs\\crafting.lua:390: in function <D:\\GitHub\\autocraft\\macros\\libs\\crafting.lua:368>\n",
      "\t[Java]: in function 'pcall'\n",
      "\tD:\\GitHub\\autocraft\\macros\\libs\\crafting.lua:390: in function 'craft'\n",
      "\tD:\\GitHub\\autocraft\\macros\\libs\\command.lua:190: in function <D:\\GitHub\\autocraft\\macros\\libs\\command.lua:176>\n",
      "\t[Java]: in function 'pcall'\n",
      "\tD:\\GitHub\\autocraft\\macros\\libs\\command.lua:72: in function <D:\\GitHub\\autocraft\\macros\\libs\\command.lua:71>\n",
      "\t[Java]: in ?\n",
      "stack traceback:\n",
      "\tD:\\GitHub\\autocraft\\macros\\libs\\crafting.lua:403: in function <D:\\GitHub\\autocraft\\macros\\libs\\crafting.lua:368>\n",
      "\t[Java]: in function 'pcall'\n",
      "\tD:\\GitHub\\autocraft\\macros\\libs\\crafting.lua:390: in function 'craft'\n",
      "\tD:\\GitHub\\autocraft\\macros\\libs\\command.lua:190: in function <D:\\GitHub\\autocraft\\macros\\libs\\command.lua:176>\n",
      "\t[Java]: in function 'pcall'\n",
      "\tD:\\GitHub\\autocraft\\macros\\libs\\command.lua:72: in function <D:\\GitHub\\autocraft\\macros\\libs\\command.lua:71>\n",
      "\t[Java]: in ?\n",
      "stack traceback:\n",
      "\tD:\\GitHub\\autocraft\\macros\\libs\\crafting.lua:403: in function 'craft'\n",
      "\tD:\\GitHub\\autocraft\\macros\\libs\\command.lua:190: in function <D:\\GitHub\\autocraft\\macros\\libs\\command.lua:176>\n",
      "\t[Java]: in function 'pcall'\n",
      "\tD:\\GitHub\\autocraft\\macros\\libs\\command.lua:72: in function <D:\\GitHub\\autocraft\\macros\\libs\\command.lua:71>\n",
      "\t[Java]: in ?\n"
     ]
    }
   ],
   "source": [
    "code = df[df['error'] == 'Code error']\n",
    "print('Code errors: ', len(code))\n",
    "for i in code['traceback']:\n",
    "    print(i)"
   ]
  }
 ],
 "metadata": {
  "kernelspec": {
   "display_name": "Python 3",
   "language": "python",
   "name": "python3"
  },
  "language_info": {
   "codemirror_mode": {
    "name": "ipython",
    "version": 3
   },
   "file_extension": ".py",
   "mimetype": "text/x-python",
   "name": "python",
   "nbconvert_exporter": "python",
   "pygments_lexer": "ipython3",
   "version": "3.11.1"
  },
  "orig_nbformat": 4
 },
 "nbformat": 4,
 "nbformat_minor": 2
}
